{
 "cells": [
  {
   "cell_type": "code",
   "execution_count": null,
   "id": "6fe60371d1cf5c58",
   "metadata": {
    "collapsed": false
   },
   "outputs": [],
   "source": [
    "#!/usr/bin/env python\n",
    "import msgpack\n",
    "\n",
    "filepath = \"artifacts/2024-04-21--13-23/results/msgpack.msgpack\"\n",
    "\n",
    "# Load from a file\n",
    "try:\n",
    "    with open(filepath, 'rb') as file:\n",
    "        loaded_data = msgpack.unpackb(file.read(), use_list=True, raw=False, strict_map_key=False)\n",
    "    #print(loaded_data)\n",
    "except ValueError as e:\n",
    "    print(f\"ValueError: {e}\")\n",
    "except Exception as e:\n",
    "    print(f\"An unexpected error occurred: {e}\")\n"
   ]
  },
  {
   "cell_type": "code",
   "execution_count": 2,
   "id": "f30e5440dc45baf3",
   "metadata": {
    "collapsed": false,
    "ExecuteTime": {
     "end_time": "2024-04-22T01:15:47.830084400Z",
     "start_time": "2024-04-22T01:15:47.819125800Z"
    }
   },
   "outputs": [],
   "source": [
    "import torch\n",
    "torch.cuda.empty_cache()"
   ]
  },
  {
   "cell_type": "markdown",
   "id": "31eecc236f45294b",
   "metadata": {
    "collapsed": false
   },
   "source": []
  },
  {
   "cell_type": "code",
   "execution_count": null,
   "id": "af72ec76-b72a-4b78-8959-4bc30bab1f88",
   "metadata": {},
   "outputs": [],
   "source": []
  },
  {
   "cell_type": "code",
   "execution_count": null,
   "outputs": [],
   "source": [
    "from RaTrack.main_utils import save_json_list_to_csv\n",
    "\n",
    "# Prepare the flow metrics data\n",
    "flow_met_json = [\n",
    "    {'rne': 0.14783121245525485, '50-50 rne': \"nan\", 'mov_rne': 0.0, 'stat_rne': \"nan\", 'sas': 0.9972190566936564,\n",
    "     'ras': 0.9998003503232739, 'epe': 0.3485774119628494},\n",
    "    {'rne': 0.15120055208713695, '50-50 rne': \"nan\", 'mov_rne': 0.007212005458617368, 'stat_rne': \"nan\",\n",
    "     'sas': 0.9983191274996109, 'ras': 0.9999763602836585, 'epe': 0.35644170240646805}\n",
    "]\n",
    "\n",
    "# Prepare the segmentation metrics data\n",
    "seg_met_json = [\n",
    "    {'acc': 0.6852517540622595, 'miou': 0.3799232796199921, 'sen': 0.7869268018118742},\n",
    "    {'acc': 0.9123090676880734, 'miou': 0.5136984181546864, 'sen': 0.4455232851816174}\n",
    "]\n",
    "\n",
    "# Save flow metrics to CSV\n",
    "save_json_list_to_csv(flow_met_json, \"./flow-metrics.csv\")\n",
    "\n",
    "# Save segmentation metrics to CSV\n",
    "save_json_list_to_csv(seg_met_json, \"./segmentation-metrics.csv\")\n"
   ],
   "metadata": {
    "collapsed": false
   },
   "id": "3b0b79f014bd0ff8"
  },
  {
   "cell_type": "markdown",
   "source": [],
   "metadata": {
    "collapsed": false
   },
   "id": "1158a86c5b4d4346"
  },
  {
   "cell_type": "code",
   "execution_count": 1,
   "outputs": [
    {
     "data": {
      "text/plain": "               stat_rne                 sas               mov_rne  50-50 rne  \\\n0                   NaN         0.997219057                     0        NaN   \n1                   NaN         0.998319127           0.007212005        NaN   \n2              stat_rne                 sas               mov_rne  50-50 rne   \n3                   NaN  0.9972190566936564                   0.0        NaN   \n4                   NaN  0.9983191274996109  0.007212005458617368        NaN   \n5              stat_rne                 sas               mov_rne  50-50 rne   \n6                   NaN  0.9972190566936564                   0.0        NaN   \n7                   NaN  0.9983191274996109  0.007212005458617368        NaN   \n8              stat_rne                 sas               mov_rne  50-50 rne   \n9                   NaN  0.9972190566936564                   0.0        NaN   \n10                  NaN  0.9983191274996109  0.007212005458617368        NaN   \n11                  epe                 ras                   sas  50-50 rne   \n12   0.3485774119628494  0.9998003503232739    0.9972190566936564        NaN   \n13  0.35644170240646805  0.9999763602836585    0.9983191274996109        NaN   \n\n                   ras                  rne                   epe  \n0           0.99980035          0.147831212           0.348577412  \n1           0.99997636          0.151200552           0.356441702  \n2                  ras                  rne                   epe  \n3   0.9998003503232739  0.14783121245525485    0.3485774119628494  \n4   0.9999763602836585  0.15120055208713695   0.35644170240646805  \n5                  ras                  rne                   epe  \n6   0.9998003503232739  0.14783121245525485    0.3485774119628494  \n7   0.9999763602836585  0.15120055208713695   0.35644170240646805  \n8                  ras                  rne                   epe  \n9   0.9998003503232739  0.14783121245525485    0.3485774119628494  \n10  0.9999763602836585  0.15120055208713695   0.35644170240646805  \n11            stat_rne                  rne               mov_rne  \n12                 NaN  0.14783121245525485                   0.0  \n13                 NaN  0.15120055208713695  0.007212005458617368  ",
      "text/html": "<div>\n<style scoped>\n    .dataframe tbody tr th:only-of-type {\n        vertical-align: middle;\n    }\n\n    .dataframe tbody tr th {\n        vertical-align: top;\n    }\n\n    .dataframe thead th {\n        text-align: right;\n    }\n</style>\n<table border=\"1\" class=\"dataframe\">\n  <thead>\n    <tr style=\"text-align: right;\">\n      <th></th>\n      <th>stat_rne</th>\n      <th>sas</th>\n      <th>mov_rne</th>\n      <th>50-50 rne</th>\n      <th>ras</th>\n      <th>rne</th>\n      <th>epe</th>\n    </tr>\n  </thead>\n  <tbody>\n    <tr>\n      <th>0</th>\n      <td>NaN</td>\n      <td>0.997219057</td>\n      <td>0</td>\n      <td>NaN</td>\n      <td>0.99980035</td>\n      <td>0.147831212</td>\n      <td>0.348577412</td>\n    </tr>\n    <tr>\n      <th>1</th>\n      <td>NaN</td>\n      <td>0.998319127</td>\n      <td>0.007212005</td>\n      <td>NaN</td>\n      <td>0.99997636</td>\n      <td>0.151200552</td>\n      <td>0.356441702</td>\n    </tr>\n    <tr>\n      <th>2</th>\n      <td>stat_rne</td>\n      <td>sas</td>\n      <td>mov_rne</td>\n      <td>50-50 rne</td>\n      <td>ras</td>\n      <td>rne</td>\n      <td>epe</td>\n    </tr>\n    <tr>\n      <th>3</th>\n      <td>NaN</td>\n      <td>0.9972190566936564</td>\n      <td>0.0</td>\n      <td>NaN</td>\n      <td>0.9998003503232739</td>\n      <td>0.14783121245525485</td>\n      <td>0.3485774119628494</td>\n    </tr>\n    <tr>\n      <th>4</th>\n      <td>NaN</td>\n      <td>0.9983191274996109</td>\n      <td>0.007212005458617368</td>\n      <td>NaN</td>\n      <td>0.9999763602836585</td>\n      <td>0.15120055208713695</td>\n      <td>0.35644170240646805</td>\n    </tr>\n    <tr>\n      <th>5</th>\n      <td>stat_rne</td>\n      <td>sas</td>\n      <td>mov_rne</td>\n      <td>50-50 rne</td>\n      <td>ras</td>\n      <td>rne</td>\n      <td>epe</td>\n    </tr>\n    <tr>\n      <th>6</th>\n      <td>NaN</td>\n      <td>0.9972190566936564</td>\n      <td>0.0</td>\n      <td>NaN</td>\n      <td>0.9998003503232739</td>\n      <td>0.14783121245525485</td>\n      <td>0.3485774119628494</td>\n    </tr>\n    <tr>\n      <th>7</th>\n      <td>NaN</td>\n      <td>0.9983191274996109</td>\n      <td>0.007212005458617368</td>\n      <td>NaN</td>\n      <td>0.9999763602836585</td>\n      <td>0.15120055208713695</td>\n      <td>0.35644170240646805</td>\n    </tr>\n    <tr>\n      <th>8</th>\n      <td>stat_rne</td>\n      <td>sas</td>\n      <td>mov_rne</td>\n      <td>50-50 rne</td>\n      <td>ras</td>\n      <td>rne</td>\n      <td>epe</td>\n    </tr>\n    <tr>\n      <th>9</th>\n      <td>NaN</td>\n      <td>0.9972190566936564</td>\n      <td>0.0</td>\n      <td>NaN</td>\n      <td>0.9998003503232739</td>\n      <td>0.14783121245525485</td>\n      <td>0.3485774119628494</td>\n    </tr>\n    <tr>\n      <th>10</th>\n      <td>NaN</td>\n      <td>0.9983191274996109</td>\n      <td>0.007212005458617368</td>\n      <td>NaN</td>\n      <td>0.9999763602836585</td>\n      <td>0.15120055208713695</td>\n      <td>0.35644170240646805</td>\n    </tr>\n    <tr>\n      <th>11</th>\n      <td>epe</td>\n      <td>ras</td>\n      <td>sas</td>\n      <td>50-50 rne</td>\n      <td>stat_rne</td>\n      <td>rne</td>\n      <td>mov_rne</td>\n    </tr>\n    <tr>\n      <th>12</th>\n      <td>0.3485774119628494</td>\n      <td>0.9998003503232739</td>\n      <td>0.9972190566936564</td>\n      <td>NaN</td>\n      <td>NaN</td>\n      <td>0.14783121245525485</td>\n      <td>0.0</td>\n    </tr>\n    <tr>\n      <th>13</th>\n      <td>0.35644170240646805</td>\n      <td>0.9999763602836585</td>\n      <td>0.9983191274996109</td>\n      <td>NaN</td>\n      <td>NaN</td>\n      <td>0.15120055208713695</td>\n      <td>0.007212005458617368</td>\n    </tr>\n  </tbody>\n</table>\n</div>"
     },
     "execution_count": 1,
     "metadata": {},
     "output_type": "execute_result"
    }
   ],
   "source": [
    "import pandas as pd\n",
    "import matplotlib.pyplot as plt\n",
    "from pandas import read_csv\n",
    "\n",
    "# Load the CSV data into a DataFrame\n",
    "\n",
    "file_path = \"./artifacts/eval/eval-flow-metrics.csv\"\n",
    "flow_metrics_dataframe = read_csv(file_path)\n",
    "flow_metrics_dataframe\n"
   ],
   "metadata": {
    "collapsed": false,
    "ExecuteTime": {
     "end_time": "2024-04-21T20:56:56.090574800Z",
     "start_time": "2024-04-21T20:56:54.729655700Z"
    }
   },
   "id": "abbd08cf2b1cec51"
  },
  {
   "cell_type": "code",
   "execution_count": 2,
   "outputs": [
    {
     "data": {
      "text/plain": "   Static Relative Navigation Error Static Accuracy Score  \\\n0                               NaN           0.997219057   \n1                               NaN           0.998319127   \n2                          stat_rne                   sas   \n3                               NaN    0.9972190566936564   \n4                               NaN    0.9983191274996109   \n5                          stat_rne                   sas   \n6                               NaN    0.9972190566936564   \n7                               NaN    0.9983191274996109   \n8                          stat_rne                   sas   \n9                               NaN    0.9972190566936564   \n10                              NaN    0.9983191274996109   \n11                              epe                   ras   \n12               0.3485774119628494    0.9998003503232739   \n13              0.35644170240646805    0.9999763602836585   \n\n   Moving Relative Navigation Error Fifty-Fifty RNE Radar Accuracy Score  \\\n0                                 0             NaN           0.99980035   \n1                       0.007212005             NaN           0.99997636   \n2                           mov_rne       50-50 rne                  ras   \n3                               0.0             NaN   0.9998003503232739   \n4              0.007212005458617368             NaN   0.9999763602836585   \n5                           mov_rne       50-50 rne                  ras   \n6                               0.0             NaN   0.9998003503232739   \n7              0.007212005458617368             NaN   0.9999763602836585   \n8                           mov_rne       50-50 rne                  ras   \n9                               0.0             NaN   0.9998003503232739   \n10             0.007212005458617368             NaN   0.9999763602836585   \n11                              sas       50-50 rne             stat_rne   \n12               0.9972190566936564             NaN                  NaN   \n13               0.9983191274996109             NaN                  NaN   \n\n   Relative Navigation Error       End Point Error  \n0                0.147831212           0.348577412  \n1                0.151200552           0.356441702  \n2                        rne                   epe  \n3        0.14783121245525485    0.3485774119628494  \n4        0.15120055208713695   0.35644170240646805  \n5                        rne                   epe  \n6        0.14783121245525485    0.3485774119628494  \n7        0.15120055208713695   0.35644170240646805  \n8                        rne                   epe  \n9        0.14783121245525485    0.3485774119628494  \n10       0.15120055208713695   0.35644170240646805  \n11                       rne               mov_rne  \n12       0.14783121245525485                   0.0  \n13       0.15120055208713695  0.007212005458617368  ",
      "text/html": "<div>\n<style scoped>\n    .dataframe tbody tr th:only-of-type {\n        vertical-align: middle;\n    }\n\n    .dataframe tbody tr th {\n        vertical-align: top;\n    }\n\n    .dataframe thead th {\n        text-align: right;\n    }\n</style>\n<table border=\"1\" class=\"dataframe\">\n  <thead>\n    <tr style=\"text-align: right;\">\n      <th></th>\n      <th>Static Relative Navigation Error</th>\n      <th>Static Accuracy Score</th>\n      <th>Moving Relative Navigation Error</th>\n      <th>Fifty-Fifty RNE</th>\n      <th>Radar Accuracy Score</th>\n      <th>Relative Navigation Error</th>\n      <th>End Point Error</th>\n    </tr>\n  </thead>\n  <tbody>\n    <tr>\n      <th>0</th>\n      <td>NaN</td>\n      <td>0.997219057</td>\n      <td>0</td>\n      <td>NaN</td>\n      <td>0.99980035</td>\n      <td>0.147831212</td>\n      <td>0.348577412</td>\n    </tr>\n    <tr>\n      <th>1</th>\n      <td>NaN</td>\n      <td>0.998319127</td>\n      <td>0.007212005</td>\n      <td>NaN</td>\n      <td>0.99997636</td>\n      <td>0.151200552</td>\n      <td>0.356441702</td>\n    </tr>\n    <tr>\n      <th>2</th>\n      <td>stat_rne</td>\n      <td>sas</td>\n      <td>mov_rne</td>\n      <td>50-50 rne</td>\n      <td>ras</td>\n      <td>rne</td>\n      <td>epe</td>\n    </tr>\n    <tr>\n      <th>3</th>\n      <td>NaN</td>\n      <td>0.9972190566936564</td>\n      <td>0.0</td>\n      <td>NaN</td>\n      <td>0.9998003503232739</td>\n      <td>0.14783121245525485</td>\n      <td>0.3485774119628494</td>\n    </tr>\n    <tr>\n      <th>4</th>\n      <td>NaN</td>\n      <td>0.9983191274996109</td>\n      <td>0.007212005458617368</td>\n      <td>NaN</td>\n      <td>0.9999763602836585</td>\n      <td>0.15120055208713695</td>\n      <td>0.35644170240646805</td>\n    </tr>\n    <tr>\n      <th>5</th>\n      <td>stat_rne</td>\n      <td>sas</td>\n      <td>mov_rne</td>\n      <td>50-50 rne</td>\n      <td>ras</td>\n      <td>rne</td>\n      <td>epe</td>\n    </tr>\n    <tr>\n      <th>6</th>\n      <td>NaN</td>\n      <td>0.9972190566936564</td>\n      <td>0.0</td>\n      <td>NaN</td>\n      <td>0.9998003503232739</td>\n      <td>0.14783121245525485</td>\n      <td>0.3485774119628494</td>\n    </tr>\n    <tr>\n      <th>7</th>\n      <td>NaN</td>\n      <td>0.9983191274996109</td>\n      <td>0.007212005458617368</td>\n      <td>NaN</td>\n      <td>0.9999763602836585</td>\n      <td>0.15120055208713695</td>\n      <td>0.35644170240646805</td>\n    </tr>\n    <tr>\n      <th>8</th>\n      <td>stat_rne</td>\n      <td>sas</td>\n      <td>mov_rne</td>\n      <td>50-50 rne</td>\n      <td>ras</td>\n      <td>rne</td>\n      <td>epe</td>\n    </tr>\n    <tr>\n      <th>9</th>\n      <td>NaN</td>\n      <td>0.9972190566936564</td>\n      <td>0.0</td>\n      <td>NaN</td>\n      <td>0.9998003503232739</td>\n      <td>0.14783121245525485</td>\n      <td>0.3485774119628494</td>\n    </tr>\n    <tr>\n      <th>10</th>\n      <td>NaN</td>\n      <td>0.9983191274996109</td>\n      <td>0.007212005458617368</td>\n      <td>NaN</td>\n      <td>0.9999763602836585</td>\n      <td>0.15120055208713695</td>\n      <td>0.35644170240646805</td>\n    </tr>\n    <tr>\n      <th>11</th>\n      <td>epe</td>\n      <td>ras</td>\n      <td>sas</td>\n      <td>50-50 rne</td>\n      <td>stat_rne</td>\n      <td>rne</td>\n      <td>mov_rne</td>\n    </tr>\n    <tr>\n      <th>12</th>\n      <td>0.3485774119628494</td>\n      <td>0.9998003503232739</td>\n      <td>0.9972190566936564</td>\n      <td>NaN</td>\n      <td>NaN</td>\n      <td>0.14783121245525485</td>\n      <td>0.0</td>\n    </tr>\n    <tr>\n      <th>13</th>\n      <td>0.35644170240646805</td>\n      <td>0.9999763602836585</td>\n      <td>0.9983191274996109</td>\n      <td>NaN</td>\n      <td>NaN</td>\n      <td>0.15120055208713695</td>\n      <td>0.007212005458617368</td>\n    </tr>\n  </tbody>\n</table>\n</div>"
     },
     "execution_count": 2,
     "metadata": {},
     "output_type": "execute_result"
    }
   ],
   "source": [
    "# Dictionary to rename columns in Title Case for better readability\n",
    "new_column_names = {\n",
    "    'sas': 'Static Accuracy Score',  # Static Accuracy Score\n",
    "    'mov_rne': 'Moving Relative Navigation Error',  # Moving Relative Navigation Error\n",
    "    '50-50 rne': 'Fifty-Fifty RNE',  # 50-50 Relative Navigation Error\n",
    "    'ras': 'Radar Accuracy Score',  # Radar Accuracy Score\n",
    "    'rne': 'Relative Navigation Error',  # Relative Navigation Error\n",
    "    'epe': 'End Point Error',  # End-Point Error\n",
    "    'stat_rne': 'Static Relative Navigation Error'  # Static Relative Navigation Error\n",
    "}\n",
    "\n",
    "# Renaming columns in the DataFrame\n",
    "flow_metrics_dataframe.rename(columns=new_column_names, inplace=True)\n",
    "\n",
    "# Display the updated DataFrame\n",
    "flow_metrics_dataframe\n"
   ],
   "metadata": {
    "collapsed": false,
    "ExecuteTime": {
     "end_time": "2024-04-21T20:56:56.912107Z",
     "start_time": "2024-04-21T20:56:56.892028300Z"
    }
   },
   "id": "ec1e1f934e91550e"
  },
  {
   "cell_type": "code",
   "execution_count": 17,
   "outputs": [],
   "source": [
    "import os\n",
    "from datetime import datetime\n",
    "\n",
    "from csv import DictWriter\n",
    "import logging\n",
    "\n",
    "\n",
    "def save_json_list_to_csv(\n",
    "    json_list: list[dict], filename: str, mode: str = \"a\"\n",
    ") -> None:\n",
    "    \"\"\"Save data to a CSV file.\n",
    "\n",
    "    Args:\n",
    "        json_list (list): List of dictionaries containing data to be saved.\n",
    "        filename (str): Name of the CSV file to save.\n",
    "        mode (str): Mode to open the CSV file. Default is 'a' (append).\n",
    "    \"\"\"\n",
    "    if not json_list:\n",
    "        logging.warning(\"No data to save.\")\n",
    "        return\n",
    "\n",
    "    os.makedirs(os.path.dirname(filename), exist_ok=True)\n",
    "\n",
    "    fieldnames = set().union(*(json_dict.keys() for json_dict in json_list))\n",
    "\n",
    "    if not os.path.exists(filename):\n",
    "        mode = \"w\"\n",
    "\n",
    "    with open(filename, mode=mode, newline=\"\", encoding=\"utf-8\") as file:\n",
    "        dict_writer = DictWriter(file, fieldnames=fieldnames)\n",
    "        if mode == \"w\":\n",
    "            dict_writer.writeheader()\n",
    "        dict_writer.writerows(json_list)\n",
    "#test extra columns\n",
    "seg_met = {\n",
    "    \"acc\": 0.6852517540622595,\n",
    "    \"miou\": 0.3799232796199921,\n",
    "    \"sen\": 0.7869268018118742,\n",
    "}\n",
    "\n",
    "seg_met[\"timestamp\"] = datetime.now().strftime(\"%Y-%m-%d-%H-%M-%S\")\n",
    "\n",
    "folder_results = \"./artifacts/eval/\"\n",
    "save_json_list_to_csv(\n",
    "    [seg_met], os.path.join(folder_results, \"eval-segmentation-metrics.csv\")\n",
    ")"
   ],
   "metadata": {
    "collapsed": false,
    "ExecuteTime": {
     "end_time": "2024-04-21T21:15:40.778393200Z",
     "start_time": "2024-04-21T21:15:40.770038200Z"
    }
   },
   "id": "4fb46313a95af401"
  },
  {
   "cell_type": "code",
   "execution_count": 1,
   "outputs": [
    {
     "ename": "NameError",
     "evalue": "name 'flow_metrics_dataframe' is not defined",
     "output_type": "error",
     "traceback": [
      "\u001B[1;31m---------------------------------------------------------------------------\u001B[0m",
      "\u001B[1;31mNameError\u001B[0m                                 Traceback (most recent call last)",
      "Cell \u001B[1;32mIn[1], line 5\u001B[0m\n\u001B[0;32m      3\u001B[0m \u001B[38;5;66;03m# Assuming 'flow_metrics_dataframe' is already loaded and column names have been updated\u001B[39;00m\n\u001B[0;32m      4\u001B[0m plt\u001B[38;5;241m.\u001B[39mfigure(figsize\u001B[38;5;241m=\u001B[39m(\u001B[38;5;241m10\u001B[39m, \u001B[38;5;241m6\u001B[39m))\n\u001B[1;32m----> 5\u001B[0m plt\u001B[38;5;241m.\u001B[39mplot(\u001B[43mflow_metrics_dataframe\u001B[49m\u001B[38;5;241m.\u001B[39mindex, flow_metrics_dataframe[\u001B[38;5;124m'\u001B[39m\u001B[38;5;124mRelative Navigation Error\u001B[39m\u001B[38;5;124m'\u001B[39m], marker\u001B[38;5;241m=\u001B[39m\u001B[38;5;124m'\u001B[39m\u001B[38;5;124mo\u001B[39m\u001B[38;5;124m'\u001B[39m, linestyle\u001B[38;5;241m=\u001B[39m\u001B[38;5;124m'\u001B[39m\u001B[38;5;124m-\u001B[39m\u001B[38;5;124m'\u001B[39m)\n\u001B[0;32m      6\u001B[0m plt\u001B[38;5;241m.\u001B[39mtitle(\u001B[38;5;124m'\u001B[39m\u001B[38;5;124mRelative Navigation Error Over Index\u001B[39m\u001B[38;5;124m'\u001B[39m)\n\u001B[0;32m      7\u001B[0m plt\u001B[38;5;241m.\u001B[39mxlabel(\u001B[38;5;124m'\u001B[39m\u001B[38;5;124mIndex\u001B[39m\u001B[38;5;124m'\u001B[39m)\n",
      "\u001B[1;31mNameError\u001B[0m: name 'flow_metrics_dataframe' is not defined"
     ]
    },
    {
     "data": {
      "text/plain": "<Figure size 1000x600 with 0 Axes>"
     },
     "metadata": {},
     "output_type": "display_data"
    }
   ],
   "source": [
    "import matplotlib.pyplot as plt\n",
    "\n",
    "# Assuming 'flow_metrics_dataframe' is already loaded and column names have been updated\n",
    "plt.figure(figsize=(10, 6))\n",
    "plt.plot(flow_metrics_dataframe.index, flow_metrics_dataframe['Relative Navigation Error'], marker='o', linestyle='-')\n",
    "plt.title('Relative Navigation Error Over Index')\n",
    "plt.xlabel('Index')\n",
    "plt.ylabel('Relative Navigation Error')\n",
    "plt.grid(True)\n",
    "plt.show()\n"
   ],
   "metadata": {
    "collapsed": false,
    "ExecuteTime": {
     "end_time": "2024-04-22T10:57:51.324307200Z",
     "start_time": "2024-04-22T10:57:50.050370400Z"
    }
   },
   "id": "9d4b4cc9948bece8"
  },
  {
   "cell_type": "code",
   "execution_count": 2,
   "outputs": [
    {
     "ename": "NameError",
     "evalue": "name 'data' is not defined",
     "output_type": "error",
     "traceback": [
      "\u001B[1;31m---------------------------------------------------------------------------\u001B[0m",
      "\u001B[1;31mNameError\u001B[0m                                 Traceback (most recent call last)",
      "Cell \u001B[1;32mIn[2], line 2\u001B[0m\n\u001B[0;32m      1\u001B[0m \u001B[38;5;66;03m# Display the DataFrame to understand its structure\u001B[39;00m\n\u001B[1;32m----> 2\u001B[0m \u001B[38;5;28mprint\u001B[39m(\u001B[43mdata\u001B[49m\u001B[38;5;241m.\u001B[39mhead())\n\u001B[0;32m      4\u001B[0m \u001B[38;5;66;03m# Example of plotting 'rne' metric over the index\u001B[39;00m\n\u001B[0;32m      5\u001B[0m plt\u001B[38;5;241m.\u001B[39mfigure(figsize\u001B[38;5;241m=\u001B[39m(\u001B[38;5;241m10\u001B[39m, \u001B[38;5;241m5\u001B[39m))\n",
      "\u001B[1;31mNameError\u001B[0m: name 'data' is not defined"
     ]
    }
   ],
   "source": [
    "\n",
    "# Display the DataFrame to understand its structure\n",
    "print(data.head())\n",
    "\n",
    "# Example of plotting 'rne' metric over the index\n",
    "plt.figure(figsize=(10, 5))\n",
    "plt.plot(data['rne'], label='Relative Navigation Error (rne)')\n",
    "plt.title('Relative Navigation Error Over Records')\n",
    "plt.xlabel('Index')\n",
    "plt.ylabel('RNE Value')\n",
    "plt.legend()\n",
    "plt.grid(True)\n",
    "plt.show()\n",
    "\n",
    "# If you have a 'time' or 'date' column, you can set it as the index for more meaningful plots:\n",
    "# data['time'] = pd.to_datetime(data['time'])  # Converting to datetime if not already\n",
    "# data.set_index('time', inplace=True)\n",
    "\n",
    "# Then plotting:\n",
    "# plt.figure(figsize=(10, 5))\n",
    "# plt.plot(data['rne'], label='Relative Navigation Error (rne)')\n",
    "# plt.title('RNE Over Time')\n",
    "# plt.xlabel('Time')\n",
    "# plt.ylabel('RNE Value')\n",
    "# plt.legend()\n",
    "# plt.grid(True)\n",
    "# plt.show()\n"
   ],
   "metadata": {
    "collapsed": false,
    "ExecuteTime": {
     "end_time": "2024-04-22T10:58:11.799694200Z",
     "start_time": "2024-04-22T10:58:11.658614500Z"
    }
   },
   "id": "59a19527b2791c8"
  },
  {
   "cell_type": "code",
   "execution_count": null,
   "outputs": [],
   "source": [],
   "metadata": {
    "collapsed": false
   },
   "id": "d99dee58716c79f6"
  }
 ],
 "metadata": {
  "kernelspec": {
   "display_name": "Python 3 (ipykernel)",
   "language": "python",
   "name": "python3"
  },
  "language_info": {
   "codemirror_mode": {
    "name": "ipython",
    "version": 3
   },
   "file_extension": ".py",
   "mimetype": "text/x-python",
   "name": "python",
   "nbconvert_exporter": "python",
   "pygments_lexer": "ipython3",
   "version": "3.11.0"
  }
 },
 "nbformat": 4,
 "nbformat_minor": 5
}
