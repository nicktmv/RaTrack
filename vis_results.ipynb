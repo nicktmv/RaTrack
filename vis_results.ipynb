{
 "cells": [
  {
   "cell_type": "code",
   "execution_count": 7,
   "id": "initial_id",
   "metadata": {
    "collapsed": true,
    "ExecuteTime": {
     "end_time": "2024-04-21T14:32:08.836600100Z",
     "start_time": "2024-04-21T14:31:12.527673Z"
    }
   },
   "outputs": [
    {
     "name": "stdout",
     "output_type": "stream",
     "text": [
      "GIF created successfully!\n"
     ]
    }
   ],
   "source": [
    "import os\n",
    "from PIL import Image\n",
    "\n",
    "# Define the directory containing the images\n",
    "image_folder = 'artifacts/2024-04-21--11-10/results_vis'\n",
    "output_path = 'artifacts/animation.gif'\n",
    "\n",
    "# Retrieve all image files in the directory\n",
    "image_files = [os.path.join(image_folder, f) for f in os.listdir(image_folder) if f.endswith('.png')]\n",
    "# Sort the files to maintain the order (optional, depends on how you want the frames to appear)\n",
    "image_files.sort()\n",
    "\n",
    "# Create a list to hold the images\n",
    "images = []\n",
    "\n",
    "# Open each file, convert to the same mode and append to the list\n",
    "for file in image_files:\n",
    "    img = Image.open(file)\n",
    "    images.append(img.convert('P', palette=Image.ADAPTIVE))\n",
    "\n",
    "# Save the images as a GIF\n",
    "images[0].save(output_path, save_all=True, append_images=images[1:], optimize=False, duration=200, loop=0)\n",
    "print(\"GIF created successfully!\")\n",
    "\n"
   ]
  },
  {
   "cell_type": "code",
   "execution_count": null,
   "outputs": [],
   "source": [],
   "metadata": {
    "collapsed": false
   },
   "id": "9107fb875cdea7c"
  }
 ],
 "metadata": {
  "kernelspec": {
   "display_name": "Python 3",
   "language": "python",
   "name": "python3"
  },
  "language_info": {
   "codemirror_mode": {
    "name": "ipython",
    "version": 2
   },
   "file_extension": ".py",
   "mimetype": "text/x-python",
   "name": "python",
   "nbconvert_exporter": "python",
   "pygments_lexer": "ipython2",
   "version": "2.7.6"
  }
 },
 "nbformat": 4,
 "nbformat_minor": 5
}
