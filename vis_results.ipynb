{
 "cells": [
  {
   "cell_type": "markdown",
   "id": "d3e79cca94f6f605",
   "metadata": {
    "collapsed": false,
    "jupyter": {
     "outputs_hidden": false
    }
   },
   "source": [
    "## GIF Creation\n",
    "### This notebook is used to create a gif from the images in the results_vis folder\n",
    "### The images are created as a result of the radar detection and tracking predictions\n"
   ]
  },
  {
   "cell_type": "code",
   "execution_count": 1,
   "id": "initial_id",
   "metadata": {
    "ExecuteTime": {
     "start_time": "2024-04-22T01:53:02.024675900Z"
    },
    "collapsed": false,
    "jupyter": {
     "outputs_hidden": false
    }
   },
   "outputs": [
    {
     "name": "stdout",
     "output_type": "stream",
     "text": [
      "GIF created successfully!\n"
     ]
    }
   ],
   "source": [
    "import os\n",
    "from PIL import Image\n",
    "\n",
    "# Define the directory containing the images\n",
    "image_folder = 'artifacts/2024-04-22--02-33/results_vis'\n",
    "output_path = 'artifacts/4d-radar-track-predictions.gif'\n",
    "\n",
    "# Retrieve all image files in the directory\n",
    "image_files = [os.path.join(image_folder, f) for f in os.listdir(image_folder) if f.endswith('.png')]\n",
    "# Sort the files to maintain the order (optional, depends on how you want the frames to appear)\n",
    "image_files.sort()\n",
    "\n",
    "# Create a list to hold the images\n",
    "images = []\n",
    "\n",
    "# Open each file, convert to the same mode and append to the list\n",
    "for file in image_files:\n",
    "    img = Image.open(file)\n",
    "    images.append(img.convert('P', palette=Image.ADAPTIVE))\n",
    "\n",
    "# Save the images as a GIF\n",
    "images[0].save(output_path, save_all=True, append_images=images[1:], optimize=False, duration=200, loop=0)\n",
    "print(\"GIF created successfully!\")\n",
    "\n"
   ]
  },
  {
   "cell_type": "code",
   "execution_count": null,
   "id": "9107fb875cdea7c",
   "metadata": {
    "collapsed": false,
    "jupyter": {
     "outputs_hidden": false
    }
   },
   "outputs": [],
   "source": []
  },
  {
   "cell_type": "code",
   "execution_count": null,
   "id": "fdf3a29ef6e231fd",
   "metadata": {
    "collapsed": false,
    "jupyter": {
     "outputs_hidden": false
    }
   },
   "outputs": [],
   "source": []
  }
 ],
 "metadata": {
  "kernelspec": {
   "display_name": "Python 3 (ipykernel)",
   "language": "python",
   "name": "python3"
  },
  "language_info": {
   "codemirror_mode": {
    "name": "ipython",
    "version": 3
   },
   "file_extension": ".py",
   "mimetype": "text/x-python",
   "name": "python",
   "nbconvert_exporter": "python",
   "pygments_lexer": "ipython3",
   "version": "3.11.0"
  }
 },
 "nbformat": 4,
 "nbformat_minor": 5
}
